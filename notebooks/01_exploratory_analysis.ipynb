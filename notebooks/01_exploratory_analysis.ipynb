{
 "cells": [
  {
   "cell_type": "code",
   "execution_count": null,
   "id": "1c393085",
   "metadata": {},
   "outputs": [],
   "source": [
    "import sys\n",
    "import os\n",
    "sys.path.append(os.path.abspath(os.path.join('..')))\n",
    "\n",
    "# Import functions\n",
    "from src.data.make_dataset import create_dataset\n",
    "from src.features.build_features import split_usage_groups\n",
    "from src.models.model_analysis import normality_test, run_ttest, run_ols\n",
    "from src.visualization.visualize import (\n",
    "    plot_depression_anxiety_trends,\n",
    "    plot_social_media_usage,\n",
    "    plot_relationship,\n",
    "    plot_correlation\n",
    ")"
   ]
  },
  {
   "cell_type": "code",
   "execution_count": null,
   "id": "86aa460f",
   "metadata": {},
   "outputs": [],
   "source": [
    "# Create dataset\n",
    "df = create_dataset()\n",
    "\n",
    "# If you are loading the a csv file (raw data) from data/raw/\n",
    "# Make sure to change the column title to Age, Social Media Usage, Depressive Symptom, Anxiety before running the code.\n",
    "# df = load_raw_data('your_data.csv')"
   ]
  },
  {
   "cell_type": "code",
   "execution_count": null,
   "id": "dc86b9e4",
   "metadata": {},
   "outputs": [],
   "source": [
    "# Visualizations\n",
    "plot_depression_anxiety_trends(df)\n",
    "plot_social_media_usage(df)\n",
    "plot_relationship(df, x=\"Social Media Usage\", y=\"Depressive Symptom\", title=\"Relationship Between Social Media Usage and Depressive Symptom\")\n",
    "plot_relationship(df, x=\"Social Media Usage\", y=\"Anxiety\", title=\"Relationship Between Social Media Usage and Anxiety\")\n",
    "plot_correlation(df)"
   ]
  },
  {
   "cell_type": "code",
   "execution_count": null,
   "id": "deaa5caf",
   "metadata": {},
   "outputs": [],
   "source": [
    "# Normality Tests\n",
    "normality_test(df['Social Media Usage'], \"Social Media Usage\")\n",
    "normality_test(df['Depressive Symptom'], \"Depressive Symptom\")\n",
    "normality_test(df['Anxiety'], \"Anxiety\")"
   ]
  },
  {
   "cell_type": "code",
   "execution_count": null,
   "id": "dfc0be82",
   "metadata": {},
   "outputs": [],
   "source": [
    "# Group split\n",
    "low_usage, high_usage = split_usage_groups(df)"
   ]
  },
  {
   "cell_type": "code",
   "execution_count": null,
   "id": "cf52ed4b",
   "metadata": {},
   "outputs": [],
   "source": [
    "# T-Tests\n",
    "run_ttest(low_usage['Depressive Symptom'], high_usage['Depressive Symptom'], \"Depressive Symptom\")\n",
    "run_ttest(low_usage['Anxiety'], high_usage['Anxiety'], \"Anxiety\")"
   ]
  },
  {
   "cell_type": "code",
   "execution_count": null,
   "id": "a627a2ff",
   "metadata": {},
   "outputs": [],
   "source": [
    "# OLS Regression\n",
    "run_ols(df['Social Media Usage'], df['Depressive Symptom'])\n",
    "run_ols(df['Social Media Usage'], df['Anxiety'])"
   ]
  }
 ],
 "metadata": {
  "kernelspec": {
   "display_name": "Python 3",
   "language": "python",
   "name": "python3"
  },
  "language_info": {
   "codemirror_mode": {
    "name": "ipython",
    "version": 3
   },
   "file_extension": ".py",
   "mimetype": "text/x-python",
   "name": "python",
   "nbconvert_exporter": "python",
   "pygments_lexer": "ipython3",
   "version": "3.11.5"
  }
 },
 "nbformat": 4,
 "nbformat_minor": 5
}
